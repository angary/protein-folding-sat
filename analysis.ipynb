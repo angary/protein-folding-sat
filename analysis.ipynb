{
 "cells": [
  {
   "cell_type": "code",
   "execution_count": 1,
   "metadata": {},
   "outputs": [],
   "source": [
    "import matplotlib.pyplot as plt\n",
    "import numpy as np\n",
    "import os\n",
    "import pandas as pd\n",
    "\n",
    "ENCODING = \"./results/encoding\"\n",
    "POLICY_DIR = \"./results/policy\"\n",
    "SEARCH_DIR = \"./results/search\"\n",
    "COLOURS = [\"blue\", \"orange\", \"green\", \"red\"]\n",
    "all_results: dict[str, dict[int, list[dict]]] = {}"
   ]
  },
  {
   "cell_type": "code",
   "execution_count": 10,
   "metadata": {},
   "outputs": [],
   "source": [
    "# Get a list of the results from a directory\n",
    "def get_result_dicts(dir_path: str) -> list[dict[str, float | str]]:\n",
    "    results = []\n",
    "    for file_name in filter(lambda x: x.endswith(\".csv\"), os.listdir(dir_path)):\n",
    "        # Open the csv file\n",
    "        file_dict = pd.read_csv(os.path.join(dir_path, file_name)).to_dict()\n",
    "        # For each header in the csv where (key1=name,val1=dict(key=row_num,val=val_at_row))\n",
    "        for key1, val1 in file_dict.items():\n",
    "            # If the value is a string, convert from a dict of strings to 1 string\n",
    "            if type(val1[0]) == str:\n",
    "                file_dict[key1] = val1[0]\n",
    "            # Else find the average of the values\n",
    "            else:\n",
    "                values = [v for v in val1.values()]\n",
    "                file_dict[key1] = sum(values) / len(values)\n",
    "        results.append(file_dict)\n",
    "    return results"
   ]
  },
  {
   "cell_type": "code",
   "execution_count": null,
   "metadata": {},
   "outputs": [],
   "source": [
    "def plot_data(rseult_dicts: list[dict[str, float | str]], dimension: int = 2):\n",
    "    \n",
    "    fig, ax_left = plt.subplots(figsize=(16, 10))\n",
    "    ax_right = ax_left.twinx()\n",
    "\n",
    "    for key in all_results:\n",
    "        if not f\"{dimension}d\" in key:\n",
    "            continue\n",
    "        data = []\n",
    "        for length, models in all_results[key].items():\n",
    "\n",
    "            # Go through all the models of that length and find the average time\n",
    "            # models = [m for m in models if m[\"model_name\"] not in invalid]\n",
    "            data.append((\n",
    "                int(length),\n",
    "                round(np.mean([m[\"time\"] for m in models]), 4),\n",
    "                round(np.mean([m[\"variables\"] for m in models]), 4),\n",
    "                round(np.mean([m[\"clauses\"] for m in models]), 4),\n",
    "            ))\n",
    "\n",
    "        # Sort the the data of each encoding type by the length of the sequences\n",
    "        data.sort(key=lambda x:x[0])\n",
    "\n",
    "        # Graph the data\n",
    "        colour = COLOURS[int(key[-1])] # Colour the line based off the version\n",
    "        names, values, variables, clauses = zip(*data)\n",
    "        ax_left.plot(names, values, color=colour, marker=\"o\", label=f\"{key} time\")\n",
    "        ax_right.plot(names, variables, \":\", color=colour, label=f\"{key} variables\")\n",
    "        ax_right.plot(names, clauses, \"--\", color=colour, label=f\"{key} clauses\")\n",
    "    \n",
    "    ax_left.set_yscale(\"log\")\n",
    "    ax_left.set_ylabel(\"Time (s)\")\n",
    "\n",
    "    ax_right.set_yscale(\"log\")\n",
    "    ax_right.set_ylabel(\"Count\")\n",
    "    # ax_left.grid(True, which=\"minor\")\n",
    "    ax_left.set_xlabel(\"Sequence Length\")\n",
    "\n",
    "    ax_left.legend(loc=\"upper left\")\n",
    "    ax_right.legend(loc=\"lower right\")\n",
    "    plt.show()"
   ]
  },
  {
   "cell_type": "code",
   "execution_count": null,
   "metadata": {},
   "outputs": [],
   "source": [
    "plot_dimension_data(2)"
   ]
  },
  {
   "cell_type": "code",
   "execution_count": null,
   "metadata": {},
   "outputs": [],
   "source": [
    "plot_dimension_data(3)"
   ]
  },
  {
   "cell_type": "code",
   "execution_count": null,
   "metadata": {},
   "outputs": [],
   "source": [
    "# Loop through all the data\n",
    "for encoding_type, encoding_results in all_results.items():\n",
    "    \n",
    "    # Get all the times\n",
    "    times = []\n",
    "    for length_times in encoding_results.values():\n",
    "        times += [t[\"time\"] for t in length_times]\n",
    "    times.sort()\n",
    "    plt.plot(times)\n",
    "plt.show()\n"
   ]
  },
  {
   "cell_type": "markdown",
   "metadata": {},
   "source": [
    "# New graph\n",
    "\n",
    "Same thing as above, have 6 curves\n",
    "- Average runtime\n",
    "- Average number of variables\n",
    "- Average number of clauses\n",
    "\n",
    "One graph for 2D, one graph for 3D\n",
    "\n",
    "Cactus plot\n",
    "Fix an encoding\n",
    "Solve all the instances, for each instance record how long it took\n",
    "Then sort the times, and plot cumulative time as we go through sorted list\n",
    "\n",
    "If we have instances [a, b, c, d]\n",
    "Solving times are [3, 10, 2, 1] respectively\n",
    "Sorted case is [1, 2, 3, 10]\n",
    "Data points are [(1, 1), (2, 3), (3, 6), (4, 16)]\n",
    "Do this for new and old encoding, on the same picture, and instances can be of different lengths\n",
    "\n",
    "x axis: "
   ]
  }
 ],
 "metadata": {
  "interpreter": {
   "hash": "397704579725e15f5c7cb49fe5f0341eb7531c82d19f2c29d197e8b64ab5776b"
  },
  "kernelspec": {
   "display_name": "Python 3.9.7 64-bit",
   "language": "python",
   "name": "python3"
  },
  "language_info": {
   "codemirror_mode": {
    "name": "ipython",
    "version": 3
   },
   "file_extension": ".py",
   "mimetype": "text/x-python",
   "name": "python",
   "nbconvert_exporter": "python",
   "pygments_lexer": "ipython3",
   "version": "3.10.1"
  },
  "orig_nbformat": 4
 },
 "nbformat": 4,
 "nbformat_minor": 2
}
