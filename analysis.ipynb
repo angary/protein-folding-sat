{
 "cells": [
  {
   "cell_type": "code",
   "execution_count": null,
   "metadata": {},
   "outputs": [],
   "source": [
    "import json\n",
    "import matplotlib.pyplot as plt\n",
    "import numpy as np\n",
    "import os\n",
    "import pandas as pd\n",
    "\n",
    "ENCODING_DIR = \"./results/encoding\"\n",
    "POLICY_DIR = \"./results/policy\"\n",
    "SEARCH_DIR = \"./results/search\"\n",
    "COLOURS = [\"blue\", \"orange\", \"green\", \"red\"]"
   ]
  },
  {
   "cell_type": "code",
   "execution_count": null,
   "metadata": {},
   "outputs": [],
   "source": [
    "# Get a list of the results from a directory\n",
    "def get_result_dicts(dir_path: str) -> list[dict[str, float | str]]:\n",
    "    results = []\n",
    "    for file_name in filter(lambda x: x.endswith(\".csv\"), os.listdir(dir_path)):\n",
    "        # Open the csv file\n",
    "        file_dict = pd.read_csv(os.path.join(dir_path, file_name)).to_dict()\n",
    "        # For each header in the csv where (key1=name,val1=dict(key=row_num,val=val_at_row))\n",
    "        valid = True\n",
    "        for key1, val1 in file_dict.items():\n",
    "            # If the value is a string, convert from a dict of strings to 1 string\n",
    "            if len(val1) == 0:\n",
    "                valid = False\n",
    "                break\n",
    "            if type(val1[0]) == str:\n",
    "                file_dict[key1] = val1[0]\n",
    "            # Else find the average of the values\n",
    "            else:\n",
    "                values = [v for v in val1.values()]\n",
    "                file_dict[key1] = sum(values) / len(values)\n",
    "        if valid:\n",
    "            results.append(file_dict)\n",
    "    return results\n",
    "\n",
    "# Helper functions for working with return value of the above function\n",
    "def get_all_vars_for(result_dicts: list[dict[str, float | str]], var_name: str) -> list:\n",
    "    return sorted(set(x[var_name] for x in result_dicts))\n",
    "\n",
    "def filter_by(result_dicts: list[dict[str, float | str]], var_name: str, var: str | float) -> list:\n",
    "    return [x for x in result_dicts if x[var_name] == var]"
   ]
  },
  {
   "cell_type": "code",
   "execution_count": null,
   "metadata": {},
   "outputs": [],
   "source": [
    "SHOW_ENCODING_RESULTS = False\n",
    "SHOW_SAT_RESULTS = True"
   ]
  },
  {
   "cell_type": "markdown",
   "metadata": {},
   "source": [
    "# Encoding Test Results\n",
    "The following code compares for each policy the best combination of `[search-policy][sat-solver][encoding-version]`"
   ]
  },
  {
   "cell_type": "code",
   "execution_count": null,
   "metadata": {},
   "outputs": [],
   "source": [
    "if SHOW_ENCODING_RESULTS:\n",
    "    #  Compare the performance of each (policy, solver, version) combination\n",
    "    results = get_result_dicts(POLICY_DIR)\n",
    "    policies = get_all_vars_for(results, \"policy\")\n",
    "    solvers = get_all_vars_for(results, \"solver\")\n",
    "    vers = get_all_vars_for(results, \"ver\")\n",
    "    lengths = get_all_vars_for(results, \"len\")\n",
    "\n",
    "    # Results\n",
    "    results_each_len: dict[str, dict[str, dict[list[float]]]] = {\n",
    "        policy: {\n",
    "            solver: {\n",
    "                ver: [] for ver in vers\n",
    "            } for solver in solvers\n",
    "        } for policy in policies\n",
    "    }\n",
    "\n",
    "    print(\" \" * (1 + len(policies[0]) + len(solvers[0])), \"\\t\", \"[v0,      v1,     v2]\")\n",
    "    # Get the times for all policies\n",
    "    for policy in policies:\n",
    "        policy_times = []\n",
    "        # Get the times for all solvers\n",
    "        for solver in solvers:\n",
    "            policy_solver_results = filter_by(filter_by(results, \"policy\", policy), \"solver\", solver)\n",
    "            ver_results = []\n",
    "            # Get the time for all versions\n",
    "            for ver in vers:\n",
    "                policy_solver_ver_results = filter_by(policy_solver_results, \"ver\", ver)\n",
    "                avg_ver_results = np.mean([x[\"total_time\"] for x in policy_solver_ver_results])\n",
    "                ver_results.append(round(avg_ver_results, 4))\n",
    "\n",
    "                # Get the time for all lengths\n",
    "                for length in lengths:\n",
    "                    length_results = filter_by(policy_solver_ver_results, \"len\", length)\n",
    "                    results_each_len[policy][solver][ver].append(np.mean([x[\"total_time\"] for x in length_results]))\n",
    "\n",
    "            # Print out the times for current policy and solver\n",
    "            ver_avg = round(np.mean(ver_results), 4)\n",
    "            policy_times.append(ver_avg)\n",
    "            print(policy, solver, \"\\t\", ver_results, f\"\\t{ver_avg = }\")\n",
    "        \n",
    "        # Print out the average time for the policy\n",
    "        policy_avg = round(np.mean(policy_times), 4)\n",
    "        print(f\"{policy_avg = }\")\n",
    "        print()\n",
    "\n",
    "    # Plot the times taken\n",
    "    plt.figure(figsize=(14, 10))\n",
    "    for p in policies:\n",
    "        # plt.plot(lengths, results_each_len[p][\"kissat\"][vers[0]])\n",
    "        plt.plot(lengths, results_each_len[p][\"kissat\"][vers[2]], label=p)\n",
    "    plt.legend()\n",
    "    plt.yscale(\"log\")\n",
    "    plt.show()\n"
   ]
  },
  {
   "cell_type": "code",
   "execution_count": null,
   "metadata": {},
   "outputs": [],
   "source": [
    "if SHOW_SAT_RESULTS:\n",
    "    with open(\"results/sat/length-20-1.json\") as f:\n",
    "        data = json.load(f)\n",
    "        plt.figure(figsize=(14, 10))\n",
    "        times = data[\"times\"]\n",
    "        n = len(times)\n",
    "        calls = [i + 1 for i in range(n)]\n",
    "        plt.bar(calls, times)\n",
    "        # plt.yscale(\"log\")\n",
    "        plt.show()"
   ]
  },
  {
   "cell_type": "code",
   "execution_count": null,
   "metadata": {},
   "outputs": [],
   "source": [
    "def plot_data(result_dicts: list[dict[str, float | str]], indp_var: str):\n",
    "    # TODO: Complete function to plot data to compare indp vars, where x axis is length, y axis is time taken\n",
    "    mapped_results: dict[str, list[dict]] = {}\n",
    "    fig, ax_left = plt.subplots(figsize=(16, 10))\n",
    "    ax_right = ax_left.twinx()\n",
    "\n",
    "    for r in result_dicts:\n",
    "        key = r[indp_var]\n",
    "        mapped_results[key] = mapped_results.get(key, []) + [r]\n",
    "\n",
    "    # Loop through each \n",
    "    for i, (var, results) in enumerate(mapped_results.items()):\n",
    "        data = []\n",
    "        incl = [\"len\", \"encode_time\", \"total_time\", \"sat_time\"]\n",
    "        for result in results:\n",
    "            data.append({i: result[i] for i in incl})\n",
    "        data.sort(key=lambda x:x[\"len\"])"
   ]
  },
  {
   "cell_type": "code",
   "execution_count": null,
   "metadata": {},
   "outputs": [],
   "source": [
    "plot_data(get_result_dicts(POLICY_DIR), \"policy\")"
   ]
  },
  {
   "cell_type": "markdown",
   "metadata": {},
   "source": [
    "# New graph\n",
    "\n",
    "Same thing as above, have 6 curves\n",
    "- Average runtime\n",
    "- Average number of variables\n",
    "- Average number of clauses\n",
    "\n",
    "One graph for 2D, one graph for 3D\n",
    "\n",
    "Cactus plot\n",
    "Fix an encoding\n",
    "Solve all the instances, for each instance record how long it took\n",
    "Then sort the times, and plot cumulative time as we go through sorted list\n",
    "\n",
    "If we have instances [a, b, c, d]\n",
    "Solving times are [3, 10, 2, 1] respectively\n",
    "Sorted case is [1, 2, 3, 10]\n",
    "Data points are [(1, 1), (2, 3), (3, 6), (4, 16)]\n",
    "Do this for new and old encoding, on the same picture, and instances can be of different lengths\n",
    "\n",
    "x axis: "
   ]
  }
 ],
 "metadata": {
  "interpreter": {
   "hash": "397704579725e15f5c7cb49fe5f0341eb7531c82d19f2c29d197e8b64ab5776b"
  },
  "kernelspec": {
   "display_name": "Python 3.9.7 64-bit",
   "language": "python",
   "name": "python3"
  },
  "language_info": {
   "codemirror_mode": {
    "name": "ipython",
    "version": 3
   },
   "file_extension": ".py",
   "mimetype": "text/x-python",
   "name": "python",
   "nbconvert_exporter": "python",
   "pygments_lexer": "ipython3",
   "version": "3.10.1"
  },
  "orig_nbformat": 4
 },
 "nbformat": 4,
 "nbformat_minor": 2
}
